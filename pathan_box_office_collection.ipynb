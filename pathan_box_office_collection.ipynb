{
 "cells": [
  {
   "cell_type": "code",
   "execution_count": null,
   "id": "7621bd11",
   "metadata": {},
   "outputs": [],
   "source": [
    "from bs4 import BeautifulSoup\n",
    "import requests\n",
    "import json\n",
    "html_text=requests.get(\"https://www.sacnilk.com/articles/entertainment/box_office/Pathan_2022_Box_Office_Collection_Day_Wise_Worldwide?hl=en\")\n",
    "html_text=html_text.text\n",
    "html_soup=BeautifulSoup(html_text,\"html.parser\")\n",
    "box_office_table=html_soup.table\n",
    "main_dict=[]\n",
    "count_row=0\n",
    "head=[]\n",
    "\n",
    "for row in box_office_table:\n",
    "         if str(type(row))==\"<class 'bs4.element.Tag'>\":\n",
    "                sub_dict={}\n",
    "                if count_row==0:\n",
    "                    for column in row:\n",
    "                        if str(type(column))==\"<class 'bs4.element.Tag'>\":\n",
    "            #                 print(\"headings:\",column.text)\n",
    "                            head.append(column.text)\n",
    "\n",
    "\n",
    "\n",
    "\n",
    "                else:\n",
    "                        count_column=0\n",
    "                        for column in row:\n",
    "                            if str(type(column))==\"<class 'bs4.element.Tag'>\":\n",
    "            #                     print(\"column name only:\",column.text)\n",
    "                                sub_dict[head[count_column]]=column.text\n",
    "                                count_column+=1\n",
    "\n",
    "                        print(sub_dict)\n",
    "                        main_dict.append(sub_dict)\n",
    "                count_row+=1\n",
    "\n",
    "                print(\"\\n\\n\\n\\n\")\n",
    "\n",
    "json_object=json.dumps(main_dict,indent=4)\n",
    "with open(\"box_office_table.json\",mode=\"w\") as file:\n",
    "    file.write(json_object)"
   ]
  }
 ],
 "metadata": {
  "kernelspec": {
   "display_name": "Python 3 (ipykernel)",
   "language": "python",
   "name": "python3"
  },
  "language_info": {
   "codemirror_mode": {
    "name": "ipython",
    "version": 3
   },
   "file_extension": ".py",
   "mimetype": "text/x-python",
   "name": "python",
   "nbconvert_exporter": "python",
   "pygments_lexer": "ipython3",
   "version": "3.9.13"
  }
 },
 "nbformat": 4,
 "nbformat_minor": 5
}
